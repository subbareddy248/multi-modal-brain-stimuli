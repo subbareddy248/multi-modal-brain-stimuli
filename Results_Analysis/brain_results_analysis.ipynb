{
 "cells": [
  {
   "cell_type": "code",
   "execution_count": 7,
   "id": "1c61bfab-e96e-408c-999e-acc219dee8d2",
   "metadata": {},
   "outputs": [
    {
     "name": "stdout",
     "output_type": "stream",
     "text": [
      "Reading labels from parcellation...\n",
      "   read 181 labels from /home/subbareddy/mne_data/MNE-sample-data/subjects/fsaverage/label/lh.HCPMMP1.annot\n",
      "   read 181 labels from /home/subbareddy/mne_data/MNE-sample-data/subjects/fsaverage/label/rh.HCPMMP1.annot\n"
     ]
    }
   ],
   "source": [
    "import os\n",
    "import mne\n",
    "import numpy as np\n",
    "import cortex\n",
    "import plotly.graph_objects as go\n",
    "from scipy import stats\n",
    "import plotly\n",
    "from nilearn import datasets\n",
    "import nibabel as nib\n",
    "subjects_dir = mne.datasets.sample.data_path() / 'subjects'\n",
    "labels = mne.read_labels_from_annot(\n",
    "    'fsaverage', 'HCPMMP1', 'both', subjects_dir=subjects_dir)"
   ]
  },
  {
   "cell_type": "code",
   "execution_count": 8,
   "id": "2447b92a-b122-4e3c-87a9-d8986d42dab9",
   "metadata": {},
   "outputs": [],
   "source": [
    "fsaverage = datasets.fetch_surf_fsaverage(\"fsaverage6\")\n",
    "L_labels = nib.load('../afni-nosmooth/tpl-fsaverage6/tpl-fsaverage6_hemi-L_desc-MMP_dseg.label.gii')\n",
    "R_labels = nib.load('../afni-nosmooth/tpl-fsaverage6/tpl-fsaverage6_hemi-R_desc-MMP_dseg.label.gii')"
   ]
  },
  {
   "cell_type": "code",
   "execution_count": 61,
   "id": "9ebe247f-0da4-4d5d-b3ff-40e227f8dfb1",
   "metadata": {},
   "outputs": [
    {
     "data": {
      "text/plain": [
       "{0: '???',\n",
       " 1: 'L_V1_ROI',\n",
       " 2: 'L_MST_ROI',\n",
       " 3: 'L_V6_ROI',\n",
       " 4: 'L_V2_ROI',\n",
       " 5: 'L_V3_ROI',\n",
       " 6: 'L_V4_ROI',\n",
       " 7: 'L_V8_ROI',\n",
       " 8: 'L_4_ROI',\n",
       " 9: 'L_3b_ROI',\n",
       " 10: 'L_FEF_ROI',\n",
       " 11: 'L_PEF_ROI',\n",
       " 12: 'L_55b_ROI',\n",
       " 13: 'L_V3A_ROI',\n",
       " 14: 'L_RSC_ROI',\n",
       " 15: 'L_POS2_ROI',\n",
       " 16: 'L_V7_ROI',\n",
       " 17: 'L_IPS1_ROI',\n",
       " 18: 'L_FFC_ROI',\n",
       " 19: 'L_V3B_ROI',\n",
       " 20: 'L_LO1_ROI',\n",
       " 21: 'L_LO2_ROI',\n",
       " 22: 'L_PIT_ROI',\n",
       " 23: 'L_MT_ROI',\n",
       " 24: 'L_A1_ROI',\n",
       " 25: 'L_PSL_ROI',\n",
       " 26: 'L_SFL_ROI',\n",
       " 27: 'L_PCV_ROI',\n",
       " 28: 'L_STV_ROI',\n",
       " 29: 'L_7Pm_ROI',\n",
       " 30: 'L_7m_ROI',\n",
       " 31: 'L_POS1_ROI',\n",
       " 32: 'L_23d_ROI',\n",
       " 33: 'L_v23ab_ROI',\n",
       " 34: 'L_d23ab_ROI',\n",
       " 35: 'L_31pv_ROI',\n",
       " 36: 'L_5m_ROI',\n",
       " 37: 'L_5mv_ROI',\n",
       " 38: 'L_23c_ROI',\n",
       " 39: 'L_5L_ROI',\n",
       " 40: 'L_24dd_ROI',\n",
       " 41: 'L_24dv_ROI',\n",
       " 42: 'L_7AL_ROI',\n",
       " 43: 'L_SCEF_ROI',\n",
       " 44: 'L_6ma_ROI',\n",
       " 45: 'L_7Am_ROI',\n",
       " 46: 'L_7PL_ROI',\n",
       " 47: 'L_7PC_ROI',\n",
       " 48: 'L_LIPv_ROI',\n",
       " 49: 'L_VIP_ROI',\n",
       " 50: 'L_MIP_ROI',\n",
       " 51: 'L_1_ROI',\n",
       " 52: 'L_2_ROI',\n",
       " 53: 'L_3a_ROI',\n",
       " 54: 'L_6d_ROI',\n",
       " 55: 'L_6mp_ROI',\n",
       " 56: 'L_6v_ROI',\n",
       " 57: 'L_p24pr_ROI',\n",
       " 58: 'L_33pr_ROI',\n",
       " 59: 'L_a24pr_ROI',\n",
       " 60: 'L_p32pr_ROI',\n",
       " 61: 'L_a24_ROI',\n",
       " 62: 'L_d32_ROI',\n",
       " 63: 'L_8BM_ROI',\n",
       " 64: 'L_p32_ROI',\n",
       " 65: 'L_10r_ROI',\n",
       " 66: 'L_47m_ROI',\n",
       " 67: 'L_8Av_ROI',\n",
       " 68: 'L_8Ad_ROI',\n",
       " 69: 'L_9m_ROI',\n",
       " 70: 'L_8BL_ROI',\n",
       " 71: 'L_9p_ROI',\n",
       " 72: 'L_10d_ROI',\n",
       " 73: 'L_8C_ROI',\n",
       " 74: 'L_44_ROI',\n",
       " 75: 'L_45_ROI',\n",
       " 76: 'L_47l_ROI',\n",
       " 77: 'L_a47r_ROI',\n",
       " 78: 'L_6r_ROI',\n",
       " 79: 'L_IFJa_ROI',\n",
       " 80: 'L_IFJp_ROI',\n",
       " 81: 'L_IFSp_ROI',\n",
       " 82: 'L_IFSa_ROI',\n",
       " 83: 'L_p9-46v_ROI',\n",
       " 84: 'L_46_ROI',\n",
       " 85: 'L_a9-46v_ROI',\n",
       " 86: 'L_9-46d_ROI',\n",
       " 87: 'L_9a_ROI',\n",
       " 88: 'L_10v_ROI',\n",
       " 89: 'L_a10p_ROI',\n",
       " 90: 'L_10pp_ROI',\n",
       " 91: 'L_11l_ROI',\n",
       " 92: 'L_13l_ROI',\n",
       " 93: 'L_OFC_ROI',\n",
       " 94: 'L_47s_ROI',\n",
       " 95: 'L_LIPd_ROI',\n",
       " 96: 'L_6a_ROI',\n",
       " 97: 'L_i6-8_ROI',\n",
       " 98: 'L_s6-8_ROI',\n",
       " 99: 'L_43_ROI',\n",
       " 100: 'L_OP4_ROI',\n",
       " 101: 'L_OP1_ROI',\n",
       " 102: 'L_OP2-3_ROI',\n",
       " 103: 'L_52_ROI',\n",
       " 104: 'L_RI_ROI',\n",
       " 105: 'L_PFcm_ROI',\n",
       " 106: 'L_PoI2_ROI',\n",
       " 107: 'L_TA2_ROI',\n",
       " 108: 'L_FOP4_ROI',\n",
       " 109: 'L_MI_ROI',\n",
       " 110: 'L_Pir_ROI',\n",
       " 111: 'L_AVI_ROI',\n",
       " 112: 'L_AAIC_ROI',\n",
       " 113: 'L_FOP1_ROI',\n",
       " 114: 'L_FOP3_ROI',\n",
       " 115: 'L_FOP2_ROI',\n",
       " 116: 'L_PFt_ROI',\n",
       " 117: 'L_AIP_ROI',\n",
       " 118: 'L_EC_ROI',\n",
       " 119: 'L_PreS_ROI',\n",
       " 120: 'L_H_ROI',\n",
       " 121: 'L_ProS_ROI',\n",
       " 122: 'L_PeEc_ROI',\n",
       " 123: 'L_STGa_ROI',\n",
       " 124: 'L_PBelt_ROI',\n",
       " 125: 'L_A5_ROI',\n",
       " 126: 'L_PHA1_ROI',\n",
       " 127: 'L_PHA3_ROI',\n",
       " 128: 'L_STSda_ROI',\n",
       " 129: 'L_STSdp_ROI',\n",
       " 130: 'L_STSvp_ROI',\n",
       " 131: 'L_TGd_ROI',\n",
       " 132: 'L_TE1a_ROI',\n",
       " 133: 'L_TE1p_ROI',\n",
       " 134: 'L_TE2a_ROI',\n",
       " 135: 'L_TF_ROI',\n",
       " 136: 'L_TE2p_ROI',\n",
       " 137: 'L_PHT_ROI',\n",
       " 138: 'L_PH_ROI',\n",
       " 139: 'L_TPOJ1_ROI',\n",
       " 140: 'L_TPOJ2_ROI',\n",
       " 141: 'L_TPOJ3_ROI',\n",
       " 142: 'L_DVT_ROI',\n",
       " 143: 'L_PGp_ROI',\n",
       " 144: 'L_IP2_ROI',\n",
       " 145: 'L_IP1_ROI',\n",
       " 146: 'L_IP0_ROI',\n",
       " 147: 'L_PFop_ROI',\n",
       " 148: 'L_PF_ROI',\n",
       " 149: 'L_PFm_ROI',\n",
       " 150: 'L_PGi_ROI',\n",
       " 151: 'L_PGs_ROI',\n",
       " 152: 'L_V6A_ROI',\n",
       " 153: 'L_VMV1_ROI',\n",
       " 154: 'L_VMV3_ROI',\n",
       " 155: 'L_PHA2_ROI',\n",
       " 156: 'L_V4t_ROI',\n",
       " 157: 'L_FST_ROI',\n",
       " 158: 'L_V3CD_ROI',\n",
       " 159: 'L_LO3_ROI',\n",
       " 160: 'L_VMV2_ROI',\n",
       " 161: 'L_31pd_ROI',\n",
       " 162: 'L_31a_ROI',\n",
       " 163: 'L_VVC_ROI',\n",
       " 164: 'L_25_ROI',\n",
       " 165: 'L_s32_ROI',\n",
       " 166: 'L_pOFC_ROI',\n",
       " 167: 'L_PoI1_ROI',\n",
       " 168: 'L_Ig_ROI',\n",
       " 169: 'L_FOP5_ROI',\n",
       " 170: 'L_p10p_ROI',\n",
       " 171: 'L_p47r_ROI',\n",
       " 172: 'L_TGv_ROI',\n",
       " 173: 'L_MBelt_ROI',\n",
       " 174: 'L_LBelt_ROI',\n",
       " 175: 'L_A4_ROI',\n",
       " 176: 'L_STSva_ROI',\n",
       " 177: 'L_TE1m_ROI',\n",
       " 178: 'L_PI_ROI',\n",
       " 179: 'L_a32pr_ROI',\n",
       " 180: 'L_p24_ROI'}"
      ]
     },
     "execution_count": 61,
     "metadata": {},
     "output_type": "execute_result"
    }
   ],
   "source": [
    "L_labels.labeltable.get_labels_as_dict()"
   ]
  },
  {
   "cell_type": "code",
   "execution_count": 9,
   "id": "dd7d9bd5-0458-4ec8-a359-fe99e96a7c2c",
   "metadata": {},
   "outputs": [],
   "source": [
    "language_rois = ['AG', 'ATL', 'PTL', 'IFG', 'MFG', 'IFGOrb', 'PCC', 'dmPFC']\n",
    "AG_ROIs = ['PFm','PGs','PGi','TPOJ2','TPOJ3']\n",
    "AG_indices = [149, 150, 151, 140, 141]\n",
    "\n",
    "ATL_indices = [123, 131, 132, 134, 172, 128, 176]\n",
    "ATL_regions = ['STGa','TGd','TE1a','TE2a','TGv', 'STSda', 'STSva']\n",
    "\n",
    "ptl_rois = ['STSdp','A5','TPOJ1', 'PSL','STV', 'A4', 'STSvp']\n",
    "ptl_indices = [129,125,139,25,28, 175, 130]\n",
    "\n",
    "ifg = ['44', '45', 'IFJa', 'IFSp']\n",
    "ifg_indices = [74, 75,  79, 81]\n",
    "\n",
    "mfg = ['55b']\n",
    "mfg_indices = [12]\n",
    "\n",
    "ifgorb = ['a47r', 'p47r', 'a9-46v' ]\n",
    "ifgorb_indices = [77, 171, 85]\n",
    "\n",
    "pc = ['31', 'PCV', '7m', '23', 'RSC']\n",
    "pc_indices = [161, 162, 27, 30, 32, 33, 34, 14]\n",
    "\n",
    "dmpfc = [ '9m', '10d', 'd32']\n",
    "dmpfc_indices = [ 69, 62, 72]\n",
    "\n",
    "early_visual_names = ['V1','V2','V3']\n",
    "early_visual_indices = [1,4,5]\n",
    "\n",
    "dorsal_visual_names = ['V3A', 'V3B', 'V6','V6A', 'V7', 'IPS1']\n",
    "dorsal_visual_indices = [13, 19, 3,152,16,17]\n",
    "\n",
    "middle_temporal_names = ['MT', 'MST', 'LO1', 'LO2', 'FST', 'V3CD']\n",
    "middle_temporal_indices = [23, 20,21, 157, 158]\n",
    "\n",
    "language_indices = [AG_indices, ATL_indices, ptl_indices, ifg_indices, mfg_indices, ifgorb_indices, pc_indices, dmpfc_indices, \n",
    "                    early_visual_indices, dorsal_visual_indices, middle_temporal_indices]"
   ]
  },
  {
   "cell_type": "code",
   "execution_count": 10,
   "id": "63e32a2a-494a-4440-98e9-b83230167d0b",
   "metadata": {},
   "outputs": [],
   "source": [
    "models = ['video','audio','videomae']"
   ]
  },
  {
   "cell_type": "code",
   "execution_count": 58,
   "id": "7498a400-96dd-4c26-8c6b-da5eced5e76d",
   "metadata": {},
   "outputs": [
    {
     "name": "stdout",
     "output_type": "stream",
     "text": [
      "(3, 3, 11)\n"
     ]
    }
   ],
   "source": [
    "normalized_scores = {}\n",
    "subjects = ['1','3','5']\n",
    "for eachmodel in models:\n",
    "    normalized_scores[eachmodel] = []\n",
    "    for eachsub in subjects:\n",
    "        temp1 = []\n",
    "        ceiling_voxcorrs = np.load('./movie10_predictions_results/noise_ceiling/subject_'+str(eachsub)+'_kernel_ridge.npy')\n",
    "        model_voxcorrs = np.load('imagebind_both/'+str(eachsub)+'/'+eachmodel+'/all/'+'layer_0.npy')\n",
    "        significant_indices = np.where(np.nan_to_num(ceiling_voxcorrs)<0.00)[0]\n",
    "        model_voxcorrs[significant_indices] = 0\n",
    "        normalize_across_voxels = model_voxcorrs/ceiling_voxcorrs\n",
    "        normalize_across_voxels[np.where(normalize_across_voxels<0)[0]] = 0\n",
    "        for eachroi in language_indices:\n",
    "            temp = []\n",
    "            for subroi in eachroi:\n",
    "                lhindices = np.where(L_labels.darrays[0].data==subroi)[0]\n",
    "                rhindices = np.where(R_labels.darrays[0].data==subroi)[0]\n",
    "                lh_mean = normalize_across_voxels[0:40962][lhindices]\n",
    "                rh_mean = normalize_across_voxels[40962:][rhindices]\n",
    "                lh_rh = np.concatenate([lh_mean,rh_mean],axis=0)\n",
    "                temp.append(np.mean(lh_rh))\n",
    "            temp1.append(np.mean(temp))\n",
    "        normalized_scores[eachmodel].append(np.array(temp1))\n",
    "normalized_scores = np.array(list(normalized_scores.values()))\n",
    "print(normalized_scores.shape)"
   ]
  },
  {
   "cell_type": "code",
   "execution_count": 107,
   "id": "389669b2-050a-4f79-a0cd-01ed47d5b98b",
   "metadata": {},
   "outputs": [
    {
     "data": {
      "text/plain": [
       "array([0.29710758, 0.16357883, 0.19230221, 0.1471695 , 0.25732817,\n",
       "       0.19068934, 0.22997956, 0.16116393])"
      ]
     },
     "execution_count": 107,
     "metadata": {},
     "output_type": "execute_result"
    }
   ],
   "source": [
    "np.mean(normalized_scores[0],axis=0)"
   ]
  },
  {
   "cell_type": "code",
   "execution_count": 108,
   "id": "b263261c-a4e3-4ab7-996f-9bca6f20e1bb",
   "metadata": {},
   "outputs": [
    {
     "data": {
      "text/plain": [
       "array([0.14522962, 0.11744028, 0.29904012, 0.13491508, 0.18004535,\n",
       "       0.24355203, 0.15333279, 0.19360927])"
      ]
     },
     "execution_count": 108,
     "metadata": {},
     "output_type": "execute_result"
    }
   ],
   "source": [
    "np.mean(normalized_scores[1],axis=0)"
   ]
  },
  {
   "cell_type": "code",
   "execution_count": 114,
   "id": "3af1662e-9221-4c7f-bba6-f4e2c6b830f6",
   "metadata": {},
   "outputs": [
    {
     "data": {
      "text/plain": [
       "array([0.29711284, 0.16356988, 0.19228869, 0.14716659, 0.25732542,\n",
       "       0.19067587, 0.22995659, 0.16115436])"
      ]
     },
     "execution_count": 114,
     "metadata": {},
     "output_type": "execute_result"
    }
   ],
   "source": [
    "np.mean(normalized_scores[2],axis=0)"
   ]
  },
  {
   "cell_type": "code",
   "execution_count": 115,
   "id": "946d1765-5656-4427-b934-20b790a429d5",
   "metadata": {},
   "outputs": [
    {
     "name": "stdout",
     "output_type": "stream",
     "text": [
      "(3, 3, 8)\n"
     ]
    }
   ],
   "source": [
    "normalized_scores = {}\n",
    "subjects = ['1','3','5']\n",
    "for eachmodel in models:\n",
    "    normalized_scores[eachmodel] = []\n",
    "    for eachsub in subjects:\n",
    "        temp1 = []\n",
    "        model_voxcorrs = np.load('imagebind_both/'+str(eachsub)+'/'+eachmodel+'/all/'+'layer_0.npy')\n",
    "        model_voxcorrs[np.where(model_voxcorrs<0.0)[0]]=0.0\n",
    "        for eachroi in language_indices:\n",
    "            temp = []\n",
    "            for subroi in eachroi:\n",
    "                lhindices = np.where(L_labels.darrays[0].data==subroi)[0]\n",
    "                rhindices = np.where(R_labels.darrays[0].data==subroi)[0]\n",
    "                lh_mean = model_voxcorrs[0:40962][lhindices]\n",
    "                rh_mean = model_voxcorrs[40962:][rhindices]\n",
    "                lh_rh = np.concatenate([lh_mean,rh_mean],axis=0)\n",
    "                temp.append(np.mean(lh_rh))\n",
    "            temp1.append(np.mean(temp))\n",
    "        normalized_scores[eachmodel].append(np.array(temp1))\n",
    "normalized_scores = np.array(list(normalized_scores.values()))\n",
    "print(normalized_scores.shape)"
   ]
  },
  {
   "cell_type": "code",
   "execution_count": 12,
   "id": "4661f0a3-7929-4a5a-a2fb-4de075c5a49b",
   "metadata": {},
   "outputs": [
    {
     "name": "stdout",
     "output_type": "stream",
     "text": [
      "(3, 3, 11)\n"
     ]
    }
   ],
   "source": [
    "normalized_scores_bourn = {}\n",
    "subjects = ['1','3','5']\n",
    "for eachmodel in models:\n",
    "    normalized_scores_bourn[eachmodel] = []\n",
    "    for eachsub in subjects:\n",
    "        temp1 = []\n",
    "        ceiling_voxcorrs = np.load('./movie10_predictions_results_bourn/noise_ceiling/subject_'+str(eachsub)+'_kernel_ridge.npy')\n",
    "        model_voxcorrs = np.load('imagebind_both/'+str(eachsub)+'/'+eachmodel+'/bourn/'+'layer_0.npy')\n",
    "        significant_indices = np.where(np.nan_to_num(ceiling_voxcorrs)<0.05)[0]\n",
    "        model_voxcorrs[significant_indices] = np.nan\n",
    "        normalize_across_voxels = model_voxcorrs/ceiling_voxcorrs\n",
    "        normalize_across_voxels[np.where(normalize_across_voxels<0)[0]] = 0\n",
    "        normalize_across_voxels[np.where(normalize_across_voxels>1)[0]] = 1\n",
    "        for eachroi in language_indices:\n",
    "            temp = []\n",
    "            for subroi in eachroi:\n",
    "                lhindices = np.where(L_labels.darrays[0].data==subroi)[0]\n",
    "                rhindices = np.where(R_labels.darrays[0].data==subroi)[0]\n",
    "                lh_mean = normalize_across_voxels[0:40962][lhindices]\n",
    "                rh_mean = normalize_across_voxels[40962:][rhindices]\n",
    "                lh_rh = np.concatenate([lh_mean,rh_mean],axis=0)\n",
    "                temp.append(np.nanmean(lh_rh))\n",
    "            temp1.append(np.nanmean(temp))\n",
    "        normalized_scores_bourn[eachmodel].append(np.array(temp1))\n",
    "normalized_scores_bourn = np.array(list(normalized_scores_bourn.values()))\n",
    "print(normalized_scores_bourn.shape)"
   ]
  },
  {
   "cell_type": "code",
   "execution_count": 15,
   "id": "a2b864b3-45ce-4651-a189-22d360cdb60e",
   "metadata": {},
   "outputs": [
    {
     "name": "stdout",
     "output_type": "stream",
     "text": [
      "(3, 3, 11)\n"
     ]
    }
   ],
   "source": [
    "normalized_scores_wolf = {}\n",
    "subjects = ['1','3','5']\n",
    "for eachmodel in models:\n",
    "    normalized_scores_wolf[eachmodel] = []\n",
    "    for eachsub in subjects:\n",
    "        temp1 = []\n",
    "        ceiling_voxcorrs = np.load('./movie10_predictions_results_bourn/noise_ceiling/subject_'+str(eachsub)+'_kernel_ridge.npy')\n",
    "        model_voxcorrs = np.load('imagebind_both/'+str(eachsub)+'/'+eachmodel+'/wolf/'+'layer_0.npy')\n",
    "        significant_indices = np.where(np.nan_to_num(ceiling_voxcorrs)<0.05)[0]\n",
    "        model_voxcorrs[significant_indices] = np.nan\n",
    "        normalize_across_voxels = model_voxcorrs/ceiling_voxcorrs\n",
    "        normalize_across_voxels[np.where(normalize_across_voxels<0)[0]] = 0\n",
    "        normalize_across_voxels[np.where(normalize_across_voxels>1)[0]] = 1\n",
    "        for eachroi in language_indices:\n",
    "            temp = []\n",
    "            for subroi in eachroi:\n",
    "                lhindices = np.where(L_labels.darrays[0].data==subroi)[0]\n",
    "                rhindices = np.where(R_labels.darrays[0].data==subroi)[0]\n",
    "                lh_mean = normalize_across_voxels[0:40962][lhindices]\n",
    "                rh_mean = normalize_across_voxels[40962:][rhindices]\n",
    "                lh_rh = np.concatenate([lh_mean,rh_mean],axis=0)\n",
    "                temp.append(np.nanmean(lh_rh))\n",
    "            temp1.append(np.nanmean(temp))\n",
    "        normalized_scores_wolf[eachmodel].append(np.array(temp1))\n",
    "normalized_scores_wolf = np.array(list(normalized_scores_wolf.values()))\n",
    "print(normalized_scores_wolf.shape)"
   ]
  },
  {
   "cell_type": "code",
   "execution_count": 13,
   "id": "f726f726-591d-445d-86c8-9d564b1ea2a5",
   "metadata": {},
   "outputs": [
    {
     "data": {
      "text/plain": [
       "array([[0.31424824, 0.19629156, 0.16390726, 0.12285774, 0.3073514 ,\n",
       "        0.1647061 , 0.08087434, 0.43956268, 0.3803697 , 0.14922871,\n",
       "        0.57972888],\n",
       "       [0.31793337, 0.17509475, 0.06614564, 0.02298167, 0.03990355,\n",
       "        0.0874477 , 0.24685762, 0.11714988, 0.19712788, 0.14304823,\n",
       "        0.31776915],\n",
       "       [0.33410292, 0.13980965, 0.22864804, 0.19280425, 0.45703145,\n",
       "        0.09759927, 0.40070425, 0.04452225, 0.26633159, 0.28777964,\n",
       "        0.32710353]])"
      ]
     },
     "execution_count": 13,
     "metadata": {},
     "output_type": "execute_result"
    }
   ],
   "source": [
    "normalized_scores_bourn[0]"
   ]
  },
  {
   "cell_type": "code",
   "execution_count": 16,
   "id": "9e6b805d-9675-4f5e-96ba-469c04252335",
   "metadata": {},
   "outputs": [
    {
     "data": {
      "text/plain": [
       "array([[0.24057275, 0.14509613, 0.11971373, 0.12561706, 0.19992606,\n",
       "        0.10839644, 0.06325616, 0.31169042, 0.25537646, 0.08837715,\n",
       "        0.38915717],\n",
       "       [0.20865011, 0.21234124, 0.07135   , 0.01689403, 0.1026605 ,\n",
       "        0.13341239, 0.17126921, 0.12023694, 0.09623271, 0.10042285,\n",
       "        0.183526  ],\n",
       "       [0.19434513, 0.08249828, 0.09925869, 0.08149055, 0.28564044,\n",
       "        0.10631782, 0.25448318, 0.08025962, 0.19344083, 0.19363405,\n",
       "        0.21666353]])"
      ]
     },
     "execution_count": 16,
     "metadata": {},
     "output_type": "execute_result"
    }
   ],
   "source": [
    "normalized_scores_wolf[0]"
   ]
  },
  {
   "cell_type": "code",
   "execution_count": 14,
   "id": "54fff995-fee1-49e1-a497-1cfba8811044",
   "metadata": {},
   "outputs": [
    {
     "data": {
      "text/plain": [
       "array([[0.29710758, 0.16357883, 0.19230221, 0.1471695 , 0.25732817,\n",
       "        0.19068934, 0.22997956, 0.16116393, 0.23562543, 0.20203714,\n",
       "        0.38705762],\n",
       "       [0.14522962, 0.11744028, 0.29904012, 0.13491508, 0.18004535,\n",
       "        0.24355203, 0.15333279, 0.19360927, 0.17198498, 0.11503877,\n",
       "        0.14248944],\n",
       "       [0.26149061, 0.19986592, 0.18126771, 0.2544251 , 0.2544907 ,\n",
       "        0.23552172, 0.28961344, 0.31152686, 0.25968249, 0.27839431,\n",
       "        0.26350851]])"
      ]
     },
     "execution_count": 14,
     "metadata": {},
     "output_type": "execute_result"
    }
   ],
   "source": [
    "np.mean(normalized_scores,axis=1)"
   ]
  },
  {
   "cell_type": "code",
   "execution_count": 129,
   "id": "dc10a5ef-6eb6-4e87-8796-4e09cab07db7",
   "metadata": {},
   "outputs": [],
   "source": []
  },
  {
   "cell_type": "code",
   "execution_count": 56,
   "id": "819d24f0-7c30-423d-9374-a52d06b9366d",
   "metadata": {},
   "outputs": [
    {
     "name": "stdout",
     "output_type": "stream",
     "text": [
      "[[0.11319428 0.09463792 0.13297797 0.12728798 0.04338337 0.10217253\n",
      "  0.08629681 0.04480407 0.11525301 0.08678962 0.09167857]\n",
      " [0.09238356 0.06505742 0.11695341 0.10241339 0.19915225 0.08914682\n",
      "  0.07866969 0.0870273  0.147847   0.10735229 0.14857475]\n",
      " [0.09058857 0.12569542 0.09961319 0.17853056 0.16096229 0.07399929\n",
      "  0.06811681 0.1212945  0.12305787 0.07826408 0.14902535]]\n"
     ]
    }
   ],
   "source": [
    "ceiling_scores = []\n",
    "subjects = ['1','3','5']\n",
    "for eachsub in subjects:\n",
    "    ceiling_voxcorrs = np.load('./movie10_predictions_results/noise_ceiling/subject_'+str(eachsub)+'_kernel_ridge.npy')\n",
    "    ceiling_voxcorrs[np.where(ceiling_voxcorrs<0.01)[0]] = 0\n",
    "    #ceiling_scores.append(np.mean(ceiling_voxcorrs[np.where(ceiling_voxcorrs>0.0)[0]]))\n",
    "    temp1 = []\n",
    "    for eachroi in language_indices:\n",
    "        temp = []\n",
    "        for subroi in eachroi:\n",
    "            lhindices = np.where(L_labels.darrays[0].data==subroi)[0]\n",
    "            rhindices = np.where(R_labels.darrays[0].data==subroi)[0]\n",
    "            lh_mean = ceiling_voxcorrs[0:40962][lhindices]\n",
    "            rh_mean = ceiling_voxcorrs[40962:][rhindices]\n",
    "            lh_rh = np.concatenate([lh_mean,rh_mean],axis=0)\n",
    "            temp.append(np.mean(lh_rh))\n",
    "        temp1.append(np.mean(temp))\n",
    "    ceiling_scores.append(np.array(temp1))\n",
    "ceiling_scores = np.array(ceiling_scores)\n",
    "print(ceiling_scores)"
   ]
  },
  {
   "cell_type": "code",
   "execution_count": 57,
   "id": "abec80ea-494f-4277-b72a-fa3dc76d2a71",
   "metadata": {},
   "outputs": [
    {
     "data": {
      "text/plain": [
       "array([0.09058857, 0.12569542, 0.09961319, 0.17853056, 0.16096229,\n",
       "       0.07399929, 0.06811681, 0.1212945 , 0.12305787, 0.07826408,\n",
       "       0.14902535])"
      ]
     },
     "execution_count": 57,
     "metadata": {},
     "output_type": "execute_result"
    }
   ],
   "source": [
    "ceiling_scores[2]"
   ]
  },
  {
   "cell_type": "code",
   "execution_count": 59,
   "id": "eaa33d43-ece3-41eb-952b-6826772e5954",
   "metadata": {},
   "outputs": [
    {
     "data": {
      "text/plain": [
       "array([[2.74755118, 0.41799843, 0.58199753, 0.21896902, 0.6205619 ,\n",
       "        2.23426781, 1.55465249, 0.30296217, 0.5806428 , 0.27205877,\n",
       "        2.10678133],\n",
       "       [0.50084171, 0.19040453, 0.91078805, 0.27536582, 0.83694681,\n",
       "        1.08445684, 0.62836645, 0.30855439, 0.5045676 , 0.13468541,\n",
       "        0.34747441],\n",
       "       [0.8744242 , 0.61290592, 0.76472255, 0.80015655, 0.44520572,\n",
       "        1.20185373, 1.27608372, 0.56036837, 0.76064738, 0.43496293,\n",
       "        2.11853701]])"
      ]
     },
     "execution_count": 59,
     "metadata": {},
     "output_type": "execute_result"
    }
   ],
   "source": [
    "np.mean(normalized_scores,axis=1)"
   ]
  }
 ],
 "metadata": {
  "kernelspec": {
   "display_name": "Python 3 (ipykernel)",
   "language": "python",
   "name": "python3"
  },
  "language_info": {
   "codemirror_mode": {
    "name": "ipython",
    "version": 3
   },
   "file_extension": ".py",
   "mimetype": "text/x-python",
   "name": "python",
   "nbconvert_exporter": "python",
   "pygments_lexer": "ipython3",
   "version": "3.8.5"
  }
 },
 "nbformat": 4,
 "nbformat_minor": 5
}
